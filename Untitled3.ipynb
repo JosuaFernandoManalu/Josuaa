{
 "cells": [
  {
   "cell_type": "code",
   "execution_count": 15,
   "id": "1470f92d-899c-4a3e-973c-daa7a51052a8",
   "metadata": {},
   "outputs": [
    {
     "name": "stdout",
     "output_type": "stream",
     "text": [
      "25\n",
      "15\n",
      "4.0\n",
      "0\n",
      "3200000\n"
     ]
    },
    {
     "data": {
      "text/plain": [
       "2.995732273553991"
      ]
     },
     "execution_count": 15,
     "metadata": {},
     "output_type": "execute_result"
    }
   ],
   "source": [
    "import math\n",
    "a=20\n",
    "b=5\n",
    "print(a+b)\n",
    "print(a-b)\n",
    "print(a/b)\n",
    "print(a%b)\n",
    "print(a**b)\n",
    "math.log(a)\n"
   ]
  },
  {
   "cell_type": "code",
   "execution_count": 29,
   "id": "cf22581b-0a85-4cac-b990-645bbe6b8199",
   "metadata": {},
   "outputs": [
    {
     "name": "stdin",
     "output_type": "stream",
     "text": [
      "Masukkan nilai a:  10\n",
      "Masukkan nilai b:  5\n"
     ]
    },
    {
     "name": "stdout",
     "output_type": "stream",
     "text": [
      "Jumlah  10 dan 5 adalah 15\n",
      "Selisih  10 dan 5 adalah 5\n",
      "Hasil Kali 10 dan 5 adalah 50\n",
      "sisa pembagian 10 dan 5 adalah 0\n",
      "pembagian 10 dan 5 adalah 2.0\n",
      "logaritma:  2.302585092994046\n"
     ]
    }
   ],
   "source": [
    "a=int(input(\"Masukkan nilai a: \"))\n",
    "b=int(input(\"Masukkan nilai b: \"))\n",
    "\n",
    "jumlah=a+b\n",
    "selisih=a-b\n",
    "kali=a*b\n",
    "sisa_bagi=a%b\n",
    "pembagian=a/b\n",
    "logaritma=math.log(a)\n",
    "\n",
    "print(\"Jumlah \", a,\"dan\", b,\"adalah\",jumlah)\n",
    "print(\"Selisih \", a,\"dan\", b,\"adalah\",selisih)\n",
    "print(\"Hasil Kali\", a,\"dan\", b,\"adalah\",kali)\n",
    "print(\"sisa pembagian\", a,\"dan\", b,\"adalah\", sisa_bagi)\n",
    "print(\"pembagian\", a,\"dan\", b,\"adalah\", pembagian)\n",
    "print(\"logaritma: \",logaritma)\n",
    "\n",
    "\n"
   ]
  },
  {
   "cell_type": "code",
   "execution_count": 52,
   "id": "ca6514fd-ed09-4b93-bcbd-7bf832393935",
   "metadata": {},
   "outputs": [
    {
     "name": "stdin",
     "output_type": "stream",
     "text": [
      "lintangkota1 : 7.2575\n",
      "bujurkota1 : 112.7521\n",
      "lintangkota2 : 1.3521\n",
      "bujurkota2 : 103.8198\n"
     ]
    },
    {
     "name": "stdout",
     "output_type": "stream",
     "text": [
      "jarak antara dua titik tersebut adalah  1187.9543301320748 kilometer\n"
     ]
    }
   ],
   "source": [
    "import math\n",
    "lintang1 = math.radians(float(input(\"lintangkota1 :\")))\n",
    "bujur1 = math.radians(float(input(\"bujurkota1 :\")))\n",
    "lintang2 = math.radians(float(input(\"lintangkota2 :\")))\n",
    "bujur2 = math.radians(float(input(\"bujurkota2 :\")))\n",
    "\n",
    "R= 6371\n",
    "Lat=lintang2-lintang1\n",
    "Long=bujur2-bujur1\n",
    "\n",
    "a=math.sin(Lat/2)**2+math.cos(lintang1)*math.cos(lintang2)*math.sin(Long/2)**2\n",
    "C=2*math.atan2(math.sqrt(a),math.sqrt(1-a))\n",
    "d= R*C\n",
    "\n",
    "print(\"jarak antara dua titik tersebut adalah \", d,\"kilometer\")\n"
   ]
  },
  {
   "cell_type": "code",
   "execution_count": null,
   "id": "c4200d74-b16d-477f-bf23-323fcc808412",
   "metadata": {},
   "outputs": [],
   "source": []
  }
 ],
 "metadata": {
  "kernelspec": {
   "display_name": "Python 3 (ipykernel)",
   "language": "python",
   "name": "python3"
  },
  "language_info": {
   "codemirror_mode": {
    "name": "ipython",
    "version": 3
   },
   "file_extension": ".py",
   "mimetype": "text/x-python",
   "name": "python",
   "nbconvert_exporter": "python",
   "pygments_lexer": "ipython3",
   "version": "3.12.4"
  }
 },
 "nbformat": 4,
 "nbformat_minor": 5
}
